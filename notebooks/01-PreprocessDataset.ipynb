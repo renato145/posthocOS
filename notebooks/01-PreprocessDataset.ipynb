{
 "cells": [
  {
   "cell_type": "code",
   "execution_count": 2,
   "id": "bored-astrology",
   "metadata": {},
   "outputs": [],
   "source": [
    "import pandas as pd, numpy as np\n",
    "from pathlib import Path\n",
    "from posthocos.preprocess import preprocess"
   ]
  },
  {
   "cell_type": "code",
   "execution_count": 3,
   "id": "dangerous-nicaragua",
   "metadata": {},
   "outputs": [],
   "source": [
    "path = Path('/home/renato/data/brats2019/raw')\n",
    "out_path = Path('/home/renato/data/brats2019/preprocess')"
   ]
  },
  {
   "cell_type": "markdown",
   "id": "mighty-density",
   "metadata": {},
   "source": [
    "# Preprocess images"
   ]
  },
  {
   "cell_type": "code",
   "execution_count": null,
   "id": "brave-gravity",
   "metadata": {},
   "outputs": [],
   "source": [
    "preprocess(path/'train', out_path/'train', size=128)\n",
    "preprocess(path/'validation', out_path/'validation', size=128, train_data=False)\n",
    "preprocess(path/'validation', out_path/'validation_nocrop', size=128, train_data=False, crop=False)"
   ]
  },
  {
   "cell_type": "markdown",
   "id": "informed-stockholm",
   "metadata": {},
   "source": [
    "# Build metadata files"
   ]
  },
  {
   "cell_type": "code",
   "execution_count": 8,
   "id": "seven-variety",
   "metadata": {},
   "outputs": [
    {
     "name": "stdout",
     "output_type": "stream",
     "text": [
      "Survival data\n",
      " ----------------------------------------\n",
      "Train     : (210, 4)\n",
      "Validation: (125, 3)\n",
      "\n",
      "Scans data\n",
      " ----------------------------------------\n",
      "Train     : 76 LGG samples, 259 HGG samples\n",
      "Validation: 125 samples\n"
     ]
    }
   ],
   "source": [
    "def _clean_data(df):\n",
    "    '''Manages 2 problems on the raw data:\n",
    "    1. On the 2019 dataset some rows appear as \"ALIVE (361 days later)\", this functions will clean it.\n",
    "    2. Remove rows with missing Survival data.\n",
    "    '''\n",
    "    idx2clean = df['Survival'].str.contains('[A-Za-z]').fillna(False)\n",
    "    df.loc[idx2clean, 'Survival'] = df.loc[idx2clean, 'Survival'].str.extract(r'.*\\((\\d+)\\w.*')\n",
    "    df.dropna(subset=['Survival'], inplace=True)\n",
    "    df['Survival'] = df['Survival'].astype(int)\n",
    "    return df\n",
    "\n",
    "df_train = pd.read_csv(path / 'train' / 'survival_data.csv')\n",
    "df_valid = pd.read_csv(path / 'validation' / 'survival_evaluation.csv')\n",
    "_clean_data(df_train)\n",
    "print('Survival data\\n', '-'*40)\n",
    "print('Train     :', df_train.shape)\n",
    "print('Validation:', df_valid.shape)\n",
    "print('\\nScans data\\n', '-'*40)\n",
    "print('Train     :', end=' ')\n",
    "print(', '.join([f'{len((path / \"train\" / e).ls())} {e} samples' for e in ['LGG', 'HGG']]))\n",
    "print('Validation:', f'{len([e for e in (path / \"validation\").ls() if e.is_dir()])} samples')"
   ]
  },
  {
   "cell_type": "code",
   "execution_count": 26,
   "id": "genuine-wichita",
   "metadata": {},
   "outputs": [
    {
     "data": {
      "text/plain": [
       "[PosixPath('/home/renato/data/brats2019/preprocess/train/mapping.csv'),\n",
       " PosixPath('/home/renato/data/brats2019/preprocess/train/metadata.csv'),\n",
       " PosixPath('/home/renato/data/brats2019/preprocess/train/log_metadata.csv'),\n",
       " PosixPath('/home/renato/data/brats2019/preprocess/train/labels'),\n",
       " PosixPath('/home/renato/data/brats2019/preprocess/train/data')]"
      ]
     },
     "execution_count": 26,
     "metadata": {},
     "output_type": "execute_result"
    }
   ],
   "source": [
    "(out_path / 'train').ls()"
   ]
  },
  {
   "cell_type": "code",
   "execution_count": 31,
   "id": "broadband-amino",
   "metadata": {},
   "outputs": [
    {
     "data": {
      "text/html": [
       "<div>\n",
       "<style scoped>\n",
       "    .dataframe tbody tr th:only-of-type {\n",
       "        vertical-align: middle;\n",
       "    }\n",
       "\n",
       "    .dataframe tbody tr th {\n",
       "        vertical-align: top;\n",
       "    }\n",
       "\n",
       "    .dataframe thead th {\n",
       "        text-align: right;\n",
       "    }\n",
       "</style>\n",
       "<table border=\"1\" class=\"dataframe\">\n",
       "  <thead>\n",
       "    <tr style=\"text-align: right;\">\n",
       "      <th></th>\n",
       "      <th>modal</th>\n",
       "      <th>subject</th>\n",
       "      <th>Age</th>\n",
       "      <th>Survival</th>\n",
       "      <th>ResectionStatus</th>\n",
       "      <th>label</th>\n",
       "      <th>surv</th>\n",
       "    </tr>\n",
       "  </thead>\n",
       "  <tbody>\n",
       "    <tr>\n",
       "      <th>332</th>\n",
       "      <td>HGG</td>\n",
       "      <td>BraTS19_TCIA06_409_1</td>\n",
       "      <td>69.265753</td>\n",
       "      <td>99.0</td>\n",
       "      <td>NaN</td>\n",
       "      <td>short</td>\n",
       "      <td>99.0</td>\n",
       "    </tr>\n",
       "    <tr>\n",
       "      <th>333</th>\n",
       "      <td>HGG</td>\n",
       "      <td>BraTS19_CBICA_AYI_1</td>\n",
       "      <td>65.920548</td>\n",
       "      <td>387.0</td>\n",
       "      <td>GTR</td>\n",
       "      <td>mid</td>\n",
       "      <td>387.0</td>\n",
       "    </tr>\n",
       "    <tr>\n",
       "      <th>334</th>\n",
       "      <td>HGG</td>\n",
       "      <td>BraTS19_CBICA_BKV_1</td>\n",
       "      <td>64.808219</td>\n",
       "      <td>374.0</td>\n",
       "      <td>GTR</td>\n",
       "      <td>mid</td>\n",
       "      <td>374.0</td>\n",
       "    </tr>\n",
       "  </tbody>\n",
       "</table>\n",
       "</div>"
      ],
      "text/plain": [
       "    modal               subject        Age  Survival ResectionStatus  label  \\\n",
       "332   HGG  BraTS19_TCIA06_409_1  69.265753      99.0             NaN  short   \n",
       "333   HGG   BraTS19_CBICA_AYI_1  65.920548     387.0             GTR    mid   \n",
       "334   HGG   BraTS19_CBICA_BKV_1  64.808219     374.0             GTR    mid   \n",
       "\n",
       "      surv  \n",
       "332   99.0  \n",
       "333  387.0  \n",
       "334  374.0  "
      ]
     },
     "execution_count": 31,
     "metadata": {},
     "output_type": "execute_result"
    }
   ],
   "source": [
    "metadata_train = (pd.read_csv(out_path / 'train/mapping.csv')\n",
    "                    .merge(df_train, how='left', left_on='subject', right_on='BraTS19ID')\n",
    "                    .drop('BraTS19ID', axis=1))\n",
    "metadata_train['label'] = pd.cut(metadata_train.Survival, [0, 10*30, 15*30, np.inf],\n",
    "                                 labels=['short', 'mid', 'long'])\n",
    "metadata_train['surv'] = metadata_train.Survival\n",
    "metadata_train.to_csv(out_path / 'train/metadata.csv', index=False)\n",
    "metadata_train.tail(3)"
   ]
  },
  {
   "cell_type": "code",
   "execution_count": 9,
   "id": "conscious-bulletin",
   "metadata": {},
   "outputs": [
    {
     "data": {
      "text/html": [
       "<div>\n",
       "<style scoped>\n",
       "    .dataframe tbody tr th:only-of-type {\n",
       "        vertical-align: middle;\n",
       "    }\n",
       "\n",
       "    .dataframe tbody tr th {\n",
       "        vertical-align: top;\n",
       "    }\n",
       "\n",
       "    .dataframe thead th {\n",
       "        text-align: right;\n",
       "    }\n",
       "</style>\n",
       "<table border=\"1\" class=\"dataframe\">\n",
       "  <thead>\n",
       "    <tr style=\"text-align: right;\">\n",
       "      <th></th>\n",
       "      <th>subject</th>\n",
       "      <th>Age</th>\n",
       "      <th>ResectionStatus</th>\n",
       "    </tr>\n",
       "  </thead>\n",
       "  <tbody>\n",
       "    <tr>\n",
       "      <th>122</th>\n",
       "      <td>BraTS19_TCIA10_627_1</td>\n",
       "      <td>33.181</td>\n",
       "      <td>NaN</td>\n",
       "    </tr>\n",
       "    <tr>\n",
       "      <th>123</th>\n",
       "      <td>BraTS19_TCIA02_230_1</td>\n",
       "      <td>49.658</td>\n",
       "      <td>NaN</td>\n",
       "    </tr>\n",
       "    <tr>\n",
       "      <th>124</th>\n",
       "      <td>BraTS19_TCIA06_497_1</td>\n",
       "      <td>63.186</td>\n",
       "      <td>NaN</td>\n",
       "    </tr>\n",
       "  </tbody>\n",
       "</table>\n",
       "</div>"
      ],
      "text/plain": [
       "                  subject     Age ResectionStatus\n",
       "122  BraTS19_TCIA10_627_1  33.181             NaN\n",
       "123  BraTS19_TCIA02_230_1  49.658             NaN\n",
       "124  BraTS19_TCIA06_497_1  63.186             NaN"
      ]
     },
     "execution_count": 9,
     "metadata": {},
     "output_type": "execute_result"
    }
   ],
   "source": [
    "metadata_valid = (pd.read_csv(out_path / 'validation/mapping.csv')\n",
    "                    .merge(df_valid, how='left', left_on='subject', right_on='BraTS19ID')\n",
    "                    .drop('BraTS19ID', axis=1))\n",
    "metadata_valid.to_csv(out_path / 'validation/metadata.csv', index=False)\n",
    "metadata_valid.tail(3)"
   ]
  },
  {
   "cell_type": "code",
   "execution_count": null,
   "id": "maritime-blair",
   "metadata": {},
   "outputs": [],
   "source": []
  },
  {
   "cell_type": "code",
   "execution_count": null,
   "id": "editorial-withdrawal",
   "metadata": {},
   "outputs": [],
   "source": []
  },
  {
   "cell_type": "code",
   "execution_count": null,
   "id": "posted-accident",
   "metadata": {},
   "outputs": [],
   "source": []
  }
 ],
 "metadata": {
  "kernelspec": {
   "display_name": "Python [conda env:ml]",
   "language": "python",
   "name": "conda-env-ml-py"
  },
  "language_info": {
   "codemirror_mode": {
    "name": "ipython",
    "version": 3
   },
   "file_extension": ".py",
   "mimetype": "text/x-python",
   "name": "python",
   "nbconvert_exporter": "python",
   "pygments_lexer": "ipython3",
   "version": "3.7.7"
  },
  "toc": {
   "base_numbering": 1,
   "nav_menu": {},
   "number_sections": true,
   "sideBar": true,
   "skip_h1_title": false,
   "title_cell": "Table of Contents",
   "title_sidebar": "Contents",
   "toc_cell": false,
   "toc_position": {},
   "toc_section_display": true,
   "toc_window_display": false
  }
 },
 "nbformat": 4,
 "nbformat_minor": 5
}
